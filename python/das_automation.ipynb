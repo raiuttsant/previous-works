{
 "cells": [
  {
   "cell_type": "code",
   "execution_count": 1,
   "metadata": {},
   "outputs": [],
   "source": [
    "import pandas as pd\n",
    "from selenium import webdriver\n",
    "from selenium.webdriver.chrome.service import Service\n",
    "from webdriver_manager.chrome import ChromeDriverManager\n",
    "from selenium.webdriver.common.keys import Keys\n",
    "import time\n",
    "from random import uniform"
   ]
  },
  {
   "cell_type": "code",
   "execution_count": 26,
   "metadata": {},
   "outputs": [],
   "source": [
    "# service = Service(executable_path=ChromeDriverManager().install())"
   ]
  },
  {
   "cell_type": "code",
   "execution_count": 27,
   "metadata": {},
   "outputs": [],
   "source": [
    "service = Service(executable_path= r'/Users/uttsant/Desktop/PROG/chromedriver')"
   ]
  },
  {
   "cell_type": "code",
   "execution_count": 28,
   "metadata": {},
   "outputs": [],
   "source": [
    "browser = webdriver.Chrome(service=service)"
   ]
  },
  {
   "cell_type": "code",
   "execution_count": 35,
   "metadata": {},
   "outputs": [],
   "source": [
    "browser.get('https://hk.ap.logisticsbackoffice.com/dashboard/deliveryareas/events?q=MANUAL_2020')"
   ]
  },
  {
   "cell_type": "code",
   "execution_count": 37,
   "metadata": {},
   "outputs": [],
   "source": [
    "# second result\n",
    "try:\n",
    "    while True:\n",
    "        browser.maximize_window()\n",
    "        browser.get('https://hk.ap.logisticsbackoffice.com/dashboard/deliveryareas/events?q=MANUAL_DDF')\n",
    "        time.sleep(uniform(2,2.5))\n",
    "        second_result = browser.find_element(\"xpath\", '//*[@id=\"root\"]/div[2]/div[1]/div/ul/li[1]/div/div/div[2]/div/div[1]')\n",
    "        second_result.click()\n",
    "        time.sleep(uniform(2,2.5))\n",
    "        delete_button = browser.find_element(\"xpath\", '//*[@id=\"deleteEventButton\"]')\n",
    "        delete_button.click()\n",
    "        time.sleep(uniform(2,2.5))\n",
    "        confirm_button = browser.find_element(\"xpath\", '//*[@id=\"confirmation-button\"]')\n",
    "        confirm_button.click()\n",
    "        time.sleep(uniform(2,2.5))\n",
    "except:\n",
    "    pass"
   ]
  },
  {
   "cell_type": "code",
   "execution_count": null,
   "metadata": {},
   "outputs": [],
   "source": []
  },
  {
   "cell_type": "code",
   "execution_count": null,
   "metadata": {},
   "outputs": [],
   "source": []
  }
 ],
 "metadata": {
  "kernelspec": {
   "display_name": "Python 3.9.6 64-bit",
   "language": "python",
   "name": "python3"
  },
  "language_info": {
   "codemirror_mode": {
    "name": "ipython",
    "version": 3
   },
   "file_extension": ".py",
   "mimetype": "text/x-python",
   "name": "python",
   "nbconvert_exporter": "python",
   "pygments_lexer": "ipython3",
   "version": "3.9.6"
  },
  "orig_nbformat": 4,
  "vscode": {
   "interpreter": {
    "hash": "aee8b7b246df8f9039afb4144a1f6fd8d2ca17a180786b69acc140d282b71a49"
   }
  }
 },
 "nbformat": 4,
 "nbformat_minor": 2
}
